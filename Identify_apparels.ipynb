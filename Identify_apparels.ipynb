{
  "nbformat": 4,
  "nbformat_minor": 0,
  "metadata": {
    "colab": {
      "name": "Identify_apparels.ipynb",
      "provenance": [],
      "collapsed_sections": [],
      "authorship_tag": "ABX9TyPX89wCvMP59hALeq8F4h0o",
      "include_colab_link": true
    },
    "kernelspec": {
      "name": "python3",
      "display_name": "Python 3"
    },
    "accelerator": "GPU"
  },
  "cells": [
    {
      "cell_type": "markdown",
      "metadata": {
        "id": "view-in-github",
        "colab_type": "text"
      },
      "source": [
        "<a href=\"https://colab.research.google.com/github/deepak10pk/Image-Classification-Model/blob/master/Identify_apparels.ipynb\" target=\"_parent\"><img src=\"https://colab.research.google.com/assets/colab-badge.svg\" alt=\"Open In Colab\"/></a>"
      ]
    },
    {
      "cell_type": "code",
      "metadata": {
        "id": "OG6tflsboC7E",
        "colab_type": "code",
        "colab": {}
      },
      "source": [
        "%tensorflow_version 2.x"
      ],
      "execution_count": 2,
      "outputs": []
    },
    {
      "cell_type": "code",
      "metadata": {
        "id": "8rs2lCrgwkhz",
        "colab_type": "code",
        "colab": {
          "base_uri": "https://localhost:8080/",
          "height": 35
        },
        "outputId": "e2c13da8-5bad-4814-e1c9-73d0217171f5"
      },
      "source": [
        "\n",
        "import tensorflow as tf\n",
        "tf.__version__"
      ],
      "execution_count": 3,
      "outputs": [
        {
          "output_type": "execute_result",
          "data": {
            "application/vnd.google.colaboratory.intrinsic": {
              "type": "string"
            },
            "text/plain": [
              "'2.2.0'"
            ]
          },
          "metadata": {
            "tags": []
          },
          "execution_count": 3
        }
      ]
    },
    {
      "cell_type": "code",
      "metadata": {
        "id": "HpdGi30jptZP",
        "colab_type": "code",
        "colab": {
          "base_uri": "https://localhost:8080/",
          "height": 34
        },
        "outputId": "1f7069c6-b2fa-4bad-ee4d-216edc1c0efe"
      },
      "source": [
        "import numpy as np\n",
        "import pandas as pd\n",
        "import keras\n",
        "from keras.models import Sequential\n",
        "from keras.layers import Dense,Flatten,Dropout\n",
        "from keras.layers import Conv2D, MaxPooling2D\n",
        "from keras.utils import to_categorical\n",
        "from keras.preprocessing import image\n",
        "import matplotlib.pyplot as plt\n",
        "from sklearn.model_selection import train_test_split\n",
        "from tqdm import tqdm"
      ],
      "execution_count": 4,
      "outputs": [
        {
          "output_type": "stream",
          "text": [
            "Using TensorFlow backend.\n"
          ],
          "name": "stderr"
        }
      ]
    },
    {
      "cell_type": "code",
      "metadata": {
        "id": "_3tKYWUOyZFT",
        "colab_type": "code",
        "colab": {}
      },
      "source": [
        "# Reading test data from dropbox\n",
        "#!wget https://www.dropbox.com/s/ywgdka2dkg1iilg/test_ScVgIM0.zip"
      ],
      "execution_count": 5,
      "outputs": []
    },
    {
      "cell_type": "code",
      "metadata": {
        "id": "RBvPtvm-yYwU",
        "colab_type": "code",
        "colab": {}
      },
      "source": [
        "#!unzip /content/test_ScVgIM0.zip"
      ],
      "execution_count": 6,
      "outputs": []
    },
    {
      "cell_type": "code",
      "metadata": {
        "id": "RgYAyVZVy7PN",
        "colab_type": "code",
        "colab": {}
      },
      "source": [
        "#Reading train data\n",
        "#!wget https://www.dropbox.com/s/v96iq97ffcxgxr6/train_LbELtWX.zip"
      ],
      "execution_count": 7,
      "outputs": []
    },
    {
      "cell_type": "code",
      "metadata": {
        "id": "NqbVNC2Xy6sb",
        "colab_type": "code",
        "colab": {}
      },
      "source": [
        "#!unzip /content/train_LbELtWX.zip"
      ],
      "execution_count": 8,
      "outputs": []
    },
    {
      "cell_type": "code",
      "metadata": {
        "id": "WWrgHvzkqnYP",
        "colab_type": "code",
        "colab": {}
      },
      "source": [
        "train=pd.read_csv('/content/train.csv')"
      ],
      "execution_count": 9,
      "outputs": []
    },
    {
      "cell_type": "code",
      "metadata": {
        "id": "rQtNxYPZwZAr",
        "colab_type": "code",
        "colab": {
          "base_uri": "https://localhost:8080/",
          "height": 88
        },
        "outputId": "17a358d8-022a-4c84-bb93-4cd0594b5a25"
      },
      "source": [
        "train_image=[]\n",
        "for i in tqdm(range(train.shape[0])):\n",
        "  \n",
        "  img =image.load_img('/content/train/'+train['id'][i].astype('str')+'.png', target_size=(28,28,1), grayscale=True)\n",
        "  img = image.img_to_array( img)\n",
        "  img = img/255\n",
        "  train_image.append(img)\n",
        "X = np.array(train_image)"
      ],
      "execution_count": 10,
      "outputs": [
        {
          "output_type": "stream",
          "text": [
            "  0%|          | 0/60000 [00:00<?, ?it/s]/usr/local/lib/python3.6/dist-packages/keras_preprocessing/image/utils.py:107: UserWarning: grayscale is deprecated. Please use color_mode = \"grayscale\"\n",
            "  warnings.warn('grayscale is deprecated. Please use '\n",
            "100%|██████████| 60000/60000 [00:38<00:00, 1553.75it/s]\n"
          ],
          "name": "stderr"
        }
      ]
    },
    {
      "cell_type": "code",
      "metadata": {
        "id": "__jld9y-yTZg",
        "colab_type": "code",
        "colab": {
          "base_uri": "https://localhost:8080/",
          "height": 34
        },
        "outputId": "005c6d8e-6e0e-42a7-ec0d-a836d2fed885"
      },
      "source": [
        "X.shape"
      ],
      "execution_count": 11,
      "outputs": [
        {
          "output_type": "execute_result",
          "data": {
            "text/plain": [
              "(60000, 28, 28, 1)"
            ]
          },
          "metadata": {
            "tags": []
          },
          "execution_count": 11
        }
      ]
    },
    {
      "cell_type": "code",
      "metadata": {
        "id": "G4TcESHB8jl-",
        "colab_type": "code",
        "colab": {}
      },
      "source": [
        "y=train['label'].values\n",
        "y = to_categorical(y)"
      ],
      "execution_count": 12,
      "outputs": []
    },
    {
      "cell_type": "code",
      "metadata": {
        "id": "R2dDPT2NHQ38",
        "colab_type": "code",
        "colab": {}
      },
      "source": [
        "X_train, X_test, y_train, y_test = train_test_split(X, y, random_state=42, test_size=0.2)"
      ],
      "execution_count": 13,
      "outputs": []
    },
    {
      "cell_type": "code",
      "metadata": {
        "id": "94zqWT6WHT2L",
        "colab_type": "code",
        "colab": {
          "base_uri": "https://localhost:8080/",
          "height": 34
        },
        "outputId": "0de06036-28db-417d-832f-b43c903f2305"
      },
      "source": [
        "X_train.shape , X_test.shape ,y_train.shape ,y_test.shape"
      ],
      "execution_count": 14,
      "outputs": [
        {
          "output_type": "execute_result",
          "data": {
            "text/plain": [
              "((48000, 28, 28, 1), (12000, 28, 28, 1), (48000, 10), (12000, 10))"
            ]
          },
          "metadata": {
            "tags": []
          },
          "execution_count": 14
        }
      ]
    },
    {
      "cell_type": "code",
      "metadata": {
        "id": "HTALLEDBHbOf",
        "colab_type": "code",
        "colab": {}
      },
      "source": [
        "from keras.preprocessing.image import ImageDataGenerator\n",
        "datagen = ImageDataGenerator(\n",
        "    featurewise_center=True,\n",
        "    featurewise_std_normalization=True,\n",
        "    rotation_range=20,\n",
        "    width_shift_range=0.2,\n",
        "    height_shift_range=0.2,\n",
        "    horizontal_flip=True)"
      ],
      "execution_count": 15,
      "outputs": []
    },
    {
      "cell_type": "code",
      "metadata": {
        "id": "5cbJOy6gMdIj",
        "colab_type": "code",
        "colab": {}
      },
      "source": [
        "datagen.fit(X_train)"
      ],
      "execution_count": 16,
      "outputs": []
    },
    {
      "cell_type": "code",
      "metadata": {
        "id": "JVfiI_-lMwwS",
        "colab_type": "code",
        "colab": {}
      },
      "source": [
        "model = Sequential()\n",
        "model.add(Conv2D(32, kernel_size=(3, 3),activation='relu',input_shape=(28,28,1)))\n",
        "model.add(Conv2D(64, (3, 3), activation='relu'))\n",
        "model.add(MaxPooling2D(pool_size=(2, 2)))\n",
        "model.add(Dropout(0.25))\n",
        "model.add(Flatten())\n",
        "model.add(Dense(128, activation='relu'))\n",
        "model.add(Dropout(0.5))\n",
        "model.add(Dense(10, activation='softmax'))"
      ],
      "execution_count": 22,
      "outputs": []
    },
    {
      "cell_type": "code",
      "metadata": {
        "id": "7XjOy6hUPR7U",
        "colab_type": "code",
        "colab": {}
      },
      "source": [
        "model.compile(loss='categorical_crossentropy',optimizer='Adam',metrics=['accuracy'])"
      ],
      "execution_count": 23,
      "outputs": []
    },
    {
      "cell_type": "code",
      "metadata": {
        "id": "2HMzUGHaPUtt",
        "colab_type": "code",
        "colab": {
          "base_uri": "https://localhost:8080/",
          "height": 1000
        },
        "outputId": "6a7bdffe-686a-478c-8612-07ca1c23dc05"
      },
      "source": [
        "model.fit(X_train, y_train, epochs=50, validation_data=(X_test, y_test))"
      ],
      "execution_count": 33,
      "outputs": [
        {
          "output_type": "stream",
          "text": [
            "Train on 48000 samples, validate on 12000 samples\n",
            "Epoch 1/50\n",
            "48000/48000 [==============================] - 17s 355us/step - loss: 0.1441 - accuracy: 0.9451 - val_loss: 0.2314 - val_accuracy: 0.9252\n",
            "Epoch 2/50\n",
            "48000/48000 [==============================] - 17s 349us/step - loss: 0.1404 - accuracy: 0.9465 - val_loss: 0.2404 - val_accuracy: 0.9250\n",
            "Epoch 3/50\n",
            "48000/48000 [==============================] - 17s 346us/step - loss: 0.1303 - accuracy: 0.9509 - val_loss: 0.2280 - val_accuracy: 0.9279\n",
            "Epoch 4/50\n",
            "48000/48000 [==============================] - 17s 346us/step - loss: 0.1220 - accuracy: 0.9534 - val_loss: 0.2534 - val_accuracy: 0.9246\n",
            "Epoch 5/50\n",
            "48000/48000 [==============================] - 17s 349us/step - loss: 0.1189 - accuracy: 0.9548 - val_loss: 0.2497 - val_accuracy: 0.9270\n",
            "Epoch 6/50\n",
            "48000/48000 [==============================] - 16s 341us/step - loss: 0.1137 - accuracy: 0.9578 - val_loss: 0.2508 - val_accuracy: 0.9277\n",
            "Epoch 7/50\n",
            "48000/48000 [==============================] - 16s 341us/step - loss: 0.1049 - accuracy: 0.9601 - val_loss: 0.2673 - val_accuracy: 0.9258\n",
            "Epoch 8/50\n",
            "48000/48000 [==============================] - 17s 360us/step - loss: 0.1014 - accuracy: 0.9607 - val_loss: 0.2619 - val_accuracy: 0.9296\n",
            "Epoch 9/50\n",
            "48000/48000 [==============================] - 17s 352us/step - loss: 0.1037 - accuracy: 0.9616 - val_loss: 0.2424 - val_accuracy: 0.9287\n",
            "Epoch 10/50\n",
            "48000/48000 [==============================] - 17s 345us/step - loss: 0.0973 - accuracy: 0.9636 - val_loss: 0.2680 - val_accuracy: 0.9288\n",
            "Epoch 11/50\n",
            "48000/48000 [==============================] - 17s 347us/step - loss: 0.0917 - accuracy: 0.9655 - val_loss: 0.2767 - val_accuracy: 0.9287\n",
            "Epoch 12/50\n",
            "48000/48000 [==============================] - 17s 344us/step - loss: 0.0907 - accuracy: 0.9660 - val_loss: 0.2894 - val_accuracy: 0.9292\n",
            "Epoch 13/50\n",
            "48000/48000 [==============================] - 17s 345us/step - loss: 0.0888 - accuracy: 0.9671 - val_loss: 0.2882 - val_accuracy: 0.9254\n",
            "Epoch 14/50\n",
            "48000/48000 [==============================] - 16s 343us/step - loss: 0.0843 - accuracy: 0.9683 - val_loss: 0.2713 - val_accuracy: 0.9291\n",
            "Epoch 15/50\n",
            "48000/48000 [==============================] - 16s 344us/step - loss: 0.0848 - accuracy: 0.9689 - val_loss: 0.2981 - val_accuracy: 0.9293\n",
            "Epoch 16/50\n",
            "48000/48000 [==============================] - 16s 341us/step - loss: 0.0775 - accuracy: 0.9699 - val_loss: 0.2790 - val_accuracy: 0.9306\n",
            "Epoch 17/50\n",
            "48000/48000 [==============================] - 16s 340us/step - loss: 0.0817 - accuracy: 0.9700 - val_loss: 0.2899 - val_accuracy: 0.9289\n",
            "Epoch 18/50\n",
            "48000/48000 [==============================] - 16s 341us/step - loss: 0.0773 - accuracy: 0.9711 - val_loss: 0.2732 - val_accuracy: 0.9287\n",
            "Epoch 19/50\n",
            "48000/48000 [==============================] - 16s 339us/step - loss: 0.0729 - accuracy: 0.9722 - val_loss: 0.3142 - val_accuracy: 0.9298\n",
            "Epoch 20/50\n",
            "48000/48000 [==============================] - 16s 341us/step - loss: 0.0775 - accuracy: 0.9712 - val_loss: 0.2858 - val_accuracy: 0.9299\n",
            "Epoch 21/50\n",
            "48000/48000 [==============================] - 16s 337us/step - loss: 0.0744 - accuracy: 0.9722 - val_loss: 0.3060 - val_accuracy: 0.9287\n",
            "Epoch 22/50\n",
            "48000/48000 [==============================] - 16s 338us/step - loss: 0.0708 - accuracy: 0.9738 - val_loss: 0.3308 - val_accuracy: 0.9297\n",
            "Epoch 23/50\n",
            "48000/48000 [==============================] - 17s 344us/step - loss: 0.0724 - accuracy: 0.9732 - val_loss: 0.3620 - val_accuracy: 0.9312\n",
            "Epoch 24/50\n",
            "48000/48000 [==============================] - 16s 337us/step - loss: 0.0708 - accuracy: 0.9736 - val_loss: 0.3388 - val_accuracy: 0.9317\n",
            "Epoch 25/50\n",
            "48000/48000 [==============================] - 16s 337us/step - loss: 0.0690 - accuracy: 0.9760 - val_loss: 0.3169 - val_accuracy: 0.9290\n",
            "Epoch 26/50\n",
            "48000/48000 [==============================] - 16s 339us/step - loss: 0.0655 - accuracy: 0.9754 - val_loss: 0.3627 - val_accuracy: 0.9263\n",
            "Epoch 27/50\n",
            "48000/48000 [==============================] - 17s 361us/step - loss: 0.0647 - accuracy: 0.9763 - val_loss: 0.3216 - val_accuracy: 0.9293\n",
            "Epoch 28/50\n",
            "48000/48000 [==============================] - 17s 347us/step - loss: 0.0667 - accuracy: 0.9760 - val_loss: 0.3414 - val_accuracy: 0.9283\n",
            "Epoch 29/50\n",
            "48000/48000 [==============================] - 16s 341us/step - loss: 0.0641 - accuracy: 0.9767 - val_loss: 0.4022 - val_accuracy: 0.9282\n",
            "Epoch 30/50\n",
            "48000/48000 [==============================] - 16s 341us/step - loss: 0.0669 - accuracy: 0.9755 - val_loss: 0.3379 - val_accuracy: 0.9307\n",
            "Epoch 31/50\n",
            "48000/48000 [==============================] - 16s 340us/step - loss: 0.0618 - accuracy: 0.9779 - val_loss: 0.3270 - val_accuracy: 0.9285\n",
            "Epoch 32/50\n",
            "48000/48000 [==============================] - 16s 341us/step - loss: 0.0623 - accuracy: 0.9775 - val_loss: 0.3603 - val_accuracy: 0.9281\n",
            "Epoch 33/50\n",
            "48000/48000 [==============================] - 16s 340us/step - loss: 0.0634 - accuracy: 0.9776 - val_loss: 0.3282 - val_accuracy: 0.9277\n",
            "Epoch 34/50\n",
            "48000/48000 [==============================] - 16s 340us/step - loss: 0.0640 - accuracy: 0.9764 - val_loss: 0.3623 - val_accuracy: 0.9270\n",
            "Epoch 35/50\n",
            "48000/48000 [==============================] - 16s 341us/step - loss: 0.0612 - accuracy: 0.9789 - val_loss: 0.3559 - val_accuracy: 0.9293\n",
            "Epoch 36/50\n",
            "48000/48000 [==============================] - 16s 341us/step - loss: 0.0607 - accuracy: 0.9781 - val_loss: 0.3770 - val_accuracy: 0.9290\n",
            "Epoch 37/50\n",
            "48000/48000 [==============================] - 16s 342us/step - loss: 0.0614 - accuracy: 0.9785 - val_loss: 0.3781 - val_accuracy: 0.9272\n",
            "Epoch 38/50\n",
            "48000/48000 [==============================] - 16s 339us/step - loss: 0.0589 - accuracy: 0.9788 - val_loss: 0.4324 - val_accuracy: 0.9302\n",
            "Epoch 39/50\n",
            "48000/48000 [==============================] - 16s 341us/step - loss: 0.0562 - accuracy: 0.9791 - val_loss: 0.3903 - val_accuracy: 0.9298\n",
            "Epoch 40/50\n",
            "48000/48000 [==============================] - 16s 340us/step - loss: 0.0577 - accuracy: 0.9788 - val_loss: 0.3489 - val_accuracy: 0.9278\n",
            "Epoch 41/50\n",
            "48000/48000 [==============================] - 16s 341us/step - loss: 0.0650 - accuracy: 0.9778 - val_loss: 0.3797 - val_accuracy: 0.9268\n",
            "Epoch 42/50\n",
            "48000/48000 [==============================] - 17s 347us/step - loss: 0.0569 - accuracy: 0.9794 - val_loss: 0.3844 - val_accuracy: 0.9307\n",
            "Epoch 43/50\n",
            "48000/48000 [==============================] - 16s 342us/step - loss: 0.0576 - accuracy: 0.9799 - val_loss: 0.4264 - val_accuracy: 0.9275\n",
            "Epoch 44/50\n",
            "48000/48000 [==============================] - 16s 340us/step - loss: 0.0591 - accuracy: 0.9800 - val_loss: 0.3525 - val_accuracy: 0.9307\n",
            "Epoch 45/50\n",
            "48000/48000 [==============================] - 16s 342us/step - loss: 0.0523 - accuracy: 0.9816 - val_loss: 0.4194 - val_accuracy: 0.9300\n",
            "Epoch 46/50\n",
            "48000/48000 [==============================] - 17s 355us/step - loss: 0.0571 - accuracy: 0.9797 - val_loss: 0.3847 - val_accuracy: 0.9305\n",
            "Epoch 47/50\n",
            "48000/48000 [==============================] - 16s 342us/step - loss: 0.0576 - accuracy: 0.9801 - val_loss: 0.3840 - val_accuracy: 0.9297\n",
            "Epoch 48/50\n",
            "48000/48000 [==============================] - 16s 341us/step - loss: 0.0536 - accuracy: 0.9805 - val_loss: 0.3892 - val_accuracy: 0.9298\n",
            "Epoch 49/50\n",
            "48000/48000 [==============================] - 16s 340us/step - loss: 0.0560 - accuracy: 0.9795 - val_loss: 0.3896 - val_accuracy: 0.9317\n",
            "Epoch 50/50\n",
            "48000/48000 [==============================] - 16s 340us/step - loss: 0.0540 - accuracy: 0.9811 - val_loss: 0.3723 - val_accuracy: 0.9302\n"
          ],
          "name": "stdout"
        },
        {
          "output_type": "execute_result",
          "data": {
            "text/plain": [
              "<keras.callbacks.callbacks.History at 0x7fbbb6cd08d0>"
            ]
          },
          "metadata": {
            "tags": []
          },
          "execution_count": 33
        }
      ]
    },
    {
      "cell_type": "code",
      "metadata": {
        "id": "DQO2eNgKPYOl",
        "colab_type": "code",
        "colab": {}
      },
      "source": [
        "test = pd.read_csv('/content/test.csv')"
      ],
      "execution_count": 34,
      "outputs": []
    },
    {
      "cell_type": "code",
      "metadata": {
        "id": "cfXe-p3xPf3B",
        "colab_type": "code",
        "colab": {
          "base_uri": "https://localhost:8080/",
          "height": 88
        },
        "outputId": "9637eb32-ff19-4aed-a52b-025e27673254"
      },
      "source": [
        "test_image = []\n",
        "for i in tqdm(range(test.shape[0])):\n",
        "    img = image.load_img('/content/test/'+test['id'][i].astype('str')+'.png', target_size=(28,28,1), grayscale=True)\n",
        "    img = image.img_to_array(img)\n",
        "    img = img/255\n",
        "    test_image.append(img)\n",
        "test = np.array(test_image)"
      ],
      "execution_count": 35,
      "outputs": [
        {
          "output_type": "stream",
          "text": [
            "  0%|          | 0/10000 [00:00<?, ?it/s]/usr/local/lib/python3.6/dist-packages/keras_preprocessing/image/utils.py:107: UserWarning: grayscale is deprecated. Please use color_mode = \"grayscale\"\n",
            "  warnings.warn('grayscale is deprecated. Please use '\n",
            "100%|██████████| 10000/10000 [00:03<00:00, 2851.86it/s]\n"
          ],
          "name": "stderr"
        }
      ]
    },
    {
      "cell_type": "code",
      "metadata": {
        "id": "TF6EBg9mP3Hg",
        "colab_type": "code",
        "colab": {}
      },
      "source": [
        "# making predictions\n",
        "prediction = model.predict(test)"
      ],
      "execution_count": 36,
      "outputs": []
    },
    {
      "cell_type": "code",
      "metadata": {
        "id": "2lYvAh7SR-Yb",
        "colab_type": "code",
        "colab": {}
      },
      "source": [
        "pred=np.argmax(prediction,axis=1)"
      ],
      "execution_count": 37,
      "outputs": []
    },
    {
      "cell_type": "code",
      "metadata": {
        "id": "O-669rXYQMVW",
        "colab_type": "code",
        "colab": {}
      },
      "source": [
        "# creating submission file\n",
        "sample = pd.read_csv('/content/sample_submission_I5njJSF.csv')\n",
        "sample['label'] = pred\n",
        "sample.to_csv('Deepak2_cnn.csv', header=True, index=False)"
      ],
      "execution_count": 39,
      "outputs": []
    }
  ]
}